{
 "cells": [
  {
   "cell_type": "code",
   "execution_count": 1,
   "id": "b338b8e9-d601-4539-8b23-ff49c494efad",
   "metadata": {},
   "outputs": [],
   "source": [
    "from PIL import Image\n",
    "import os, sys\n",
    "import glob\n",
    "\n"
   ]
  },
  {
   "cell_type": "code",
   "execution_count": 10,
   "id": "c3c0b07d-dd96-4ff1-b7d4-fbd7969468f0",
   "metadata": {},
   "outputs": [],
   "source": [
    "input_path = \"C:/Users/wonde/Documents/Anouk/LPS/Image/jpg/rmbg/github/LPS/images/\"\n",
    "# avec glob il faut découper le patch en fonction des \\\\ ou /\n",
    "dirs=glob.glob(input_path +'*.jpg')\n",
    "\n",
    "#une solution avec os sans filtre sur l'extension des fichiers\n",
    "#Avec os le répertoire ne doit contenir que des images...\n",
    "#dirs = os.listdir(path)\n",
    "#print(dirs)\n",
    "output_path = \"C:/Users/wonde/Documents/Anouk/LPS/Image/jpg/rmbg/github/LPS/resizes/\""
   ]
  },
  {
   "cell_type": "code",
   "execution_count": 8,
   "id": "031d9d2f-8017-42ae-b588-9f1c3fc2ce4e",
   "metadata": {},
   "outputs": [],
   "source": [
    "#ne fonctionne que si il n'y a que des fichier jpg\n",
    "def resize():\n",
    "    \n",
    "    for image_file in dirs:\n",
    "        image_file = image_file.replace(\"\\\\\",\"/\")\n",
    "        parts = image_file.split(\"/\")\n",
    "        f = parts[-1]\n",
    "        if os.path.isfile(image_file):  \n",
    "            im = Image.open(image_file)\n",
    "            imResize = im.resize((im.width//2,im.height//2), Image.Resampling.LANCZOS)\n",
    "            imResize = imResize.convert('RGB')\n",
    "            imResize.save(output_path + f , 'JPEG', quality=90)\n"
   ]
  },
  {
   "cell_type": "code",
   "execution_count": null,
   "id": "cfbdb3ee-f707-43d8-afff-ada05e9f7925",
   "metadata": {},
   "outputs": [],
   "source": [
    "resize()"
   ]
  },
  {
   "cell_type": "code",
   "execution_count": null,
   "id": "48b875e4-0c47-4054-bf6b-804c4b5a97e4",
   "metadata": {},
   "outputs": [],
   "source": []
  }
 ],
 "metadata": {
  "kernelspec": {
   "display_name": "Python 3 (ipykernel)",
   "language": "python",
   "name": "python3"
  },
  "language_info": {
   "codemirror_mode": {
    "name": "ipython",
    "version": 3
   },
   "file_extension": ".py",
   "mimetype": "text/x-python",
   "name": "python",
   "nbconvert_exporter": "python",
   "pygments_lexer": "ipython3",
   "version": "3.9.13"
  }
 },
 "nbformat": 4,
 "nbformat_minor": 5
}
