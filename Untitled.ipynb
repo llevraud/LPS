{
 "cells": [
  {
   "cell_type": "code",
   "execution_count": 1,
   "id": "b338b8e9-d601-4539-8b23-ff49c494efad",
   "metadata": {},
   "outputs": [],
   "source": [
    "from PIL import Image\n",
    "import os, sys\n",
    "\n"
   ]
  },
  {
   "cell_type": "code",
   "execution_count": null,
   "id": "c3c0b07d-dd96-4ff1-b7d4-fbd7969468f0",
   "metadata": {},
   "outputs": [],
   "source": [
    "path = ('./github/LPS/images')\n",
    "im= LPS_0002.jpg\n"
   ]
  },
  {
   "cell_type": "code",
   "execution_count": null,
   "id": "b6921599-914b-46ef-9680-08eb3b9410a5",
   "metadata": {},
   "outputs": [],
   "source": [
    "#def resize():\n",
    "#for item in os.listdir(path):\n",
    "#    if os.path.isfile(item):\n",
    "#        im = Image.open(item)\n",
    "#        f, e = os.path.splitext(item)\n",
    "#        imResize = im.resize((200,200), Image.ANTIALIAS)\n",
    "#        imResize.save(f + ' resized.jpg', 'JPEG', quality=90)\n",
    "#\n",
    "#resize()"
   ]
  },
  {
   "cell_type": "code",
   "execution_count": null,
   "id": "031d9d2f-8017-42ae-b588-9f1c3fc2ce4e",
   "metadata": {},
   "outputs": [],
   "source": [
    "path='./images/'\n",
    "output = path + 'resize/'\n",
    "def resize():\n",
    "for item in os.listdir(path):\n",
    "    if os.path.isfile(item):\n",
    "        im = Image.open(item)\n",
    "        f, e = os.path.splitext(item)\n",
    "        imResize = im.resize((im.width//2,im.height//2), Image.LANCZOS)\n",
    "        imResize = im.convert('RGB')\n",
    "        imResize.save(f + ' .jpg', 'JPEG', quality=90)\n",
    "\n",
    "resize()"
   ]
  }
 ],
 "metadata": {
  "kernelspec": {
   "display_name": "Python 3 (ipykernel)",
   "language": "python",
   "name": "python3"
  },
  "language_info": {
   "codemirror_mode": {
    "name": "ipython",
    "version": 3
   },
   "file_extension": ".py",
   "mimetype": "text/x-python",
   "name": "python",
   "nbconvert_exporter": "python",
   "pygments_lexer": "ipython3",
   "version": "3.9.13"
  }
 },
 "nbformat": 4,
 "nbformat_minor": 5
}
