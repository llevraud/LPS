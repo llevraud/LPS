{
 "cells": [
  {
   "cell_type": "code",
   "execution_count": null,
   "id": "b338b8e9-d601-4539-8b23-ff49c494efad",
   "metadata": {},
   "outputs": [],
   "source": [
    "from PIL import Image\n",
    "import os, sys\n",
    "import glob\n",
    "\n"
   ]
  },
  {
   "cell_type": "code",
   "execution_count": null,
   "id": "c3c0b07d-dd96-4ff1-b7d4-fbd7969468f0",
   "metadata": {},
   "outputs": [],
   "source": [
    "input_path = \"C:/Users/wonde/Documents/Anouk/LPS/Image/jpg/rmbg/github/LPS/images/\"\n",
    "# avec glob il faut découper le patch en fonction des \\\\ ou /\n",
    "dirs=glob.glob(input_path +'*.jpg')\n",
    "\n",
    "#une solution avec os sans filtre sur l'extension des fichiers\n",
    "#Avec os le répertoire ne doit contenir que des images...\n",
    "#dirs = os.listdir(path)\n",
    "print(dirs)\n",
    "output_path = \"C:/Users/wonde/Documents/Anouk/LPS/Image/jpg/rmbg/github/LPS/resizes/\""
   ]
  },
  {
   "cell_type": "code",
   "execution_count": null,
   "id": "d71c6c59-110d-4aad-a542-db523892f0e5",
   "metadata": {},
   "outputs": [],
   "source": [
    "#on recupère que le nom du fichier pour pouvoir l'utiliser lors de la sauvegarde\n",
    "manuscripts=[]\n",
    "for image_file in dirs:\n",
    "    image_file = image_file.replace(\"\\\\\",\"/\")\n",
    "    parts = image_file.split(\"/\")\n",
    "    if parts[-1] not in manuscripts:\n",
    "        manuscripts.append(parts[-1])\n",
    "manuscripts.sort()\n",
    "   # st.write(manuscripts)\n",
    "print(manuscripts)"
   ]
  },
  {
   "cell_type": "code",
   "execution_count": null,
   "id": "031d9d2f-8017-42ae-b588-9f1c3fc2ce4e",
   "metadata": {},
   "outputs": [],
   "source": [
    "#ne fonctionne que si il n'y a que des fichier jpg\n",
    "def resize():\n",
    "    for item in dirs:\n",
    "        print(item)\n",
    "        if os.path.isfile(item):\n",
    "            im = Image.open(item)\n",
    "            f, e = os.path.splitext(item)\n",
    "            imResize = im.resize((im.width//2,im.height//2), Image.Resampling.LANCZOS)\n",
    "            imResize = im.convert('RGB')\n",
    "            imResize.save(output_path + f + ' .jpg', 'JPEG', quality=90)\n",
    "\n"
   ]
  },
  {
   "cell_type": "code",
   "execution_count": null,
   "id": "cfbdb3ee-f707-43d8-afff-ada05e9f7925",
   "metadata": {},
   "outputs": [],
   "source": [
    "resize()"
   ]
  },
  {
   "cell_type": "code",
   "execution_count": null,
   "id": "be5e86f6-683e-4f1f-9e13-04f6d49abfb2",
   "metadata": {},
   "outputs": [],
   "source": [
    " for item in dirs:\n",
    "        if item == '.jpg':\n",
    "            continue\n",
    "            print(item)\n",
    "        if os.path.isfile(item):\n",
    "            image = Image.open(path+item)\n",
    "            file_path, extension = os.path.splitext(path+item)\n",
    "            size = image.size\n",
    "\n",
    "            new_image_height = 190\n",
    "            new_image_width = int(size[1] / size[0] * new_image_height)\n",
    "\n",
    "            image = image.resize((new_image_height, new_image_width), Image.ANTIALIAS)\n",
    "            image.save(file_path + \"_small\" + extension, 'JPEG', quality=90)\n",
    "\n",
    "\n",
    "resize()"
   ]
  }
 ],
 "metadata": {
  "kernelspec": {
   "display_name": "Python 3 (ipykernel)",
   "language": "python",
   "name": "python3"
  },
  "language_info": {
   "codemirror_mode": {
    "name": "ipython",
    "version": 3
   },
   "file_extension": ".py",
   "mimetype": "text/x-python",
   "name": "python",
   "nbconvert_exporter": "python",
   "pygments_lexer": "ipython3",
   "version": "3.9.13"
  }
 },
 "nbformat": 4,
 "nbformat_minor": 5
}
